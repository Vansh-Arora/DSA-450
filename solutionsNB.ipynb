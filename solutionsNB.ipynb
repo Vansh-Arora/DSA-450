{
 "metadata": {
  "language_info": {
   "codemirror_mode": {
    "name": "ipython",
    "version": 3
   },
   "file_extension": ".py",
   "mimetype": "text/x-python",
   "name": "python",
   "nbconvert_exporter": "python",
   "pygments_lexer": "ipython3",
   "version": 3
  },
  "orig_nbformat": 4
 },
 "nbformat": 4,
 "nbformat_minor": 2,
 "cells": [
  {
   "cell_type": "code",
   "execution_count": null,
   "metadata": {},
   "outputs": [],
   "source": [
    "## 1) Maximum and minimum of an array using minimum number of comparisons"
   ]
  },
  {
   "cell_type": "code",
   "execution_count": null,
   "metadata": {},
   "outputs": [],
   "source": [
    "# Brute force recursion\n",
    "def max_min(A, i):\n",
    "    if i == len(A) - 1:\n",
    "        return [A[i],A[i]]\n",
    "    # Recursive Approach\n",
    "    MM = max_min(A,i+1)\n",
    "    # Self Work \n",
    "    if A[i] > MM[0]:\n",
    "        MM[0] = A[i]\n",
    "    elif A[i] < MM[1]:\n",
    "        MM[1] = A[i]\n",
    "    return MM\n",
    "max_min([1,2,3,4],0)\n"
   ]
  },
  {
   "cell_type": "code",
   "execution_count": null,
   "metadata": {},
   "outputs": [],
   "source": []
  },
  {
   "cell_type": "code",
   "execution_count": null,
   "metadata": {},
   "outputs": [],
   "source": []
  },
  {
   "cell_type": "code",
   "execution_count": null,
   "metadata": {},
   "outputs": [],
   "source": []
  }
 ]
}