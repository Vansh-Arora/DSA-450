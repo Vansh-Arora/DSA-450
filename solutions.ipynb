{
 "metadata": {
  "language_info": {
   "codemirror_mode": {
    "name": "ipython",
    "version": 3
   },
   "file_extension": ".py",
   "mimetype": "text/x-python",
   "name": "python",
   "nbconvert_exporter": "python",
   "pygments_lexer": "ipython3",
   "version": "3.9.2"
  },
  "orig_nbformat": 4,
  "kernelspec": {
   "name": "python3",
   "display_name": "Python 3.9.2 64-bit"
  },
  "interpreter": {
   "hash": "8507e6bbef37eeab2cd33b933a8b9d90e5ac7a462e5035eb92b0ca88d9b3cb44"
  }
 },
 "nbformat": 4,
 "nbformat_minor": 2,
 "cells": [
  {
   "source": [
    "## 1) Maximum and minimum of an array using minimum number of comparisons"
   ],
   "cell_type": "markdown",
   "metadata": {}
  },
  {
   "cell_type": "code",
   "execution_count": 1,
   "metadata": {},
   "outputs": [
    {
     "output_type": "execute_result",
     "data": {
      "text/plain": [
       "[4, 1]"
      ]
     },
     "metadata": {},
     "execution_count": 1
    }
   ],
   "source": [
    "# Brute force recursion\n",
    "\n",
    "# Base case \n",
    "def max_min(A, i):\n",
    "    if i == len(A) - 1:\n",
    "        return [A[i],A[i]]\n",
    "    # Recursive Approach\n",
    "    MM = max_min(A,i+1)\n",
    "    # Self Work \n",
    "    if A[i] > MM[0]:\n",
    "        MM[0] = A[i]\n",
    "    elif A[i] < MM[1]:\n",
    "        MM[1] = A[i]\n",
    "    return MM\n",
    "max_min([1,2,3,4],0)\n"
   ]
  },
  {
   "cell_type": "code",
   "execution_count": 1,
   "metadata": {},
   "outputs": [
    {
     "output_type": "stream",
     "name": "stdout",
     "text": [
      "[4, 1]\n"
     ]
    }
   ],
   "source": [
    "# Optimized recursion\n",
    "def max_min(A, beg, end):\n",
    "    if beg == end:\n",
    "        return [A[beg],A[end]]\n",
    "    if beg == end - 1:\n",
    "        if A[beg] >= A[end]:\n",
    "            return [A[beg],A[end]]\n",
    "        else:\n",
    "            return [A[end],A[beg]]\n",
    "\n",
    "\n",
    "    # Recursive Approach\n",
    "    mid = (beg + end)//2\n",
    "    MM_1 = max_min(A,beg,mid) \n",
    "    MM_2 = max_min(A,mid+1,end)\n",
    "\n",
    "    # Self Work \n",
    "    return [max(MM_1[0], MM_2[0]), min(MM_1[1], MM_2[1])]\n",
    "\n",
    "print(max_min([1,2,3,4],0,3))"
   ]
  },
  {
   "cell_type": "code",
   "execution_count": 2,
   "metadata": {},
   "outputs": [
    {
     "output_type": "execute_result",
     "data": {
      "text/plain": [
       "120"
      ]
     },
     "metadata": {},
     "execution_count": 2
    }
   ],
   "source": [
    "def fac(n):\n",
    "    if n==0 or n==1:\n",
    "        return 1\n",
    "    # recursive app\n",
    "    sub = fac(n-1)\n",
    "    # self work\n",
    "    return n * sub\n",
    "fac(5)"
   ]
  },
  {
   "source": [
    "## 2) Given an array arr of N integers. Find the contiguous sub-array with maximum sum."
   ],
   "cell_type": "markdown",
   "metadata": {}
  },
  {
   "cell_type": "code",
   "execution_count": 2,
   "metadata": {},
   "outputs": [
    {
     "output_type": "error",
     "ename": "ValueError",
     "evalue": "invalid literal for int() with base 10: '1 2 3 4 5'",
     "traceback": [
      "\u001b[1;31m---------------------------------------------------------------------------\u001b[0m",
      "\u001b[1;31mValueError\u001b[0m                                Traceback (most recent call last)",
      "\u001b[1;32m<ipython-input-2-b8a1c5f56e03>\u001b[0m in \u001b[0;36m<module>\u001b[1;34m\u001b[0m\n\u001b[0;32m     44\u001b[0m \u001b[1;33m\u001b[0m\u001b[0m\n\u001b[0;32m     45\u001b[0m \u001b[1;32mif\u001b[0m \u001b[0m__name__\u001b[0m \u001b[1;33m==\u001b[0m \u001b[1;34m\"__main__\"\u001b[0m\u001b[1;33m:\u001b[0m\u001b[1;33m\u001b[0m\u001b[1;33m\u001b[0m\u001b[0m\n\u001b[1;32m---> 46\u001b[1;33m     \u001b[0mmain\u001b[0m\u001b[1;33m(\u001b[0m\u001b[1;33m)\u001b[0m\u001b[1;33m\u001b[0m\u001b[1;33m\u001b[0m\u001b[0m\n\u001b[0m\u001b[0;32m     47\u001b[0m \u001b[1;31m# } Driver Code Ends\u001b[0m\u001b[1;33m\u001b[0m\u001b[1;33m\u001b[0m\u001b[1;33m\u001b[0m\u001b[0m\n",
      "\u001b[1;32m<ipython-input-2-b8a1c5f56e03>\u001b[0m in \u001b[0;36mmain\u001b[1;34m()\u001b[0m\n\u001b[0;32m     29\u001b[0m \u001b[1;33m\u001b[0m\u001b[0m\n\u001b[0;32m     30\u001b[0m \u001b[1;32mdef\u001b[0m \u001b[0mmain\u001b[0m\u001b[1;33m(\u001b[0m\u001b[1;33m)\u001b[0m\u001b[1;33m:\u001b[0m\u001b[1;33m\u001b[0m\u001b[1;33m\u001b[0m\u001b[0m\n\u001b[1;32m---> 31\u001b[1;33m         \u001b[0mT\u001b[0m\u001b[1;33m=\u001b[0m\u001b[0mint\u001b[0m\u001b[1;33m(\u001b[0m\u001b[0minput\u001b[0m\u001b[1;33m(\u001b[0m\u001b[1;33m)\u001b[0m\u001b[1;33m)\u001b[0m\u001b[1;33m\u001b[0m\u001b[1;33m\u001b[0m\u001b[0m\n\u001b[0m\u001b[0;32m     32\u001b[0m         \u001b[1;32mwhile\u001b[0m\u001b[1;33m(\u001b[0m\u001b[0mT\u001b[0m\u001b[1;33m>\u001b[0m\u001b[1;36m0\u001b[0m\u001b[1;33m)\u001b[0m\u001b[1;33m:\u001b[0m\u001b[1;33m\u001b[0m\u001b[1;33m\u001b[0m\u001b[0m\n\u001b[0;32m     33\u001b[0m \u001b[1;33m\u001b[0m\u001b[0m\n",
      "\u001b[1;31mValueError\u001b[0m: invalid literal for int() with base 10: '1 2 3 4 5'"
     ]
    }
   ],
   "source": [
    "#User function Template for python3\n",
    "\n",
    "class Solution:\n",
    "    ##Complete this function\n",
    "    #Function to find the sum of contiguous subarray with maximum sum.\n",
    "    def maxSubArraySum(self,a,size):\n",
    "        ##Your code here\n",
    "        #i = 0\n",
    "        j = 0\n",
    "        sum = 0\n",
    "        max = float('-inf')\n",
    "        while j < size:\n",
    "            if sum >= 0:\n",
    "                sum += a[j]\n",
    "            else:\n",
    "                sum = a[j]\n",
    "            j += 1\n",
    "            if sum > max:\n",
    "                max = sum\n",
    "        return max\n",
    "        \n",
    "\n",
    "#{ \n",
    "#  Driver Code Starts\n",
    "#Initial Template for Python 3\n",
    "\n",
    "import math\n",
    "\n",
    " \n",
    "def main():\n",
    "        T=int(input())\n",
    "        while(T>0):\n",
    "            \n",
    "            n=int(input())\n",
    "            \n",
    "            arr=[int(x) for x in input().strip().split()]\n",
    "            \n",
    "            ob=Solution()\n",
    "            \n",
    "            print(ob.maxSubArraySum(arr,n))\n",
    "            \n",
    "            T-=1\n",
    "\n",
    "\n",
    "if __name__ == \"__main__\":\n",
    "    main()\n",
    "# } Driver Code Ends"
   ]
  },
  {
   "cell_type": "code",
   "execution_count": null,
   "metadata": {},
   "outputs": [],
   "source": []
  },
  {
   "cell_type": "code",
   "execution_count": null,
   "metadata": {},
   "outputs": [],
   "source": []
  },
  {
   "cell_type": "code",
   "execution_count": null,
   "metadata": {},
   "outputs": [],
   "source": []
  }
 ]
}